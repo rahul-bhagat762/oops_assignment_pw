{
 "cells": [
  {
   "cell_type": "code",
   "execution_count": 1,
   "id": "659d4860-3962-465d-9b13-6bae4aa0cef8",
   "metadata": {},
   "outputs": [],
   "source": [
    "# Problem 1: Bank Account Create a class representing a bank account with attributes like account number, account holder name, and balance. Implement methods to deposit and withdraw money from the account.\n",
    "class bank_account: ##this is a bank account class \n",
    "    def __init__(self,acc_no,acc_hold_name,balance): ##this is a constructer which take input at the time of object creation\n",
    "        self.acc_no  = acc_no ##  self.acc_no is a class variable which take value as an input acc_no which is enter in the obj and this class variable is applicable for all with in the class \n",
    "        self.acc_hold_name = acc_hold_name ##  self.acc_hold_name a class variable which take value as an input acc_hold_name which is enter in the obj and this class variable is applicable for all with in the class \n",
    "        self.balance = balance  ##  self.balance a class variable which take value as an input balance which is enter in the obj and this class variable is applicable for all with in the class \n",
    "    def deposite(self,enter_ammount): ##this an methon of the class with take two argument (self- self is used to bind these methods with this class  and not a mandatory to use self only its not a keyword even you can use your name also here)\n",
    "        self.balance +=enter_ammount  ##this line is used to update in self.balance \n",
    "        print(f\"your balance is {self.balance} after deposite {enter_ammount}\")\n",
    "    def withdrawal(self,enter_with_ammount): ##this line is used to withdraw ammount from the bank\n",
    "        self.balance -= enter_with_ammount\n",
    "        print(f\"your balance is {self.balance} after withdraw {enter_with_ammount}\")"
   ]
  },
  {
   "cell_type": "code",
   "execution_count": 3,
   "id": "85659e0f-1e26-4eba-a8ba-a4b6d1e14b31",
   "metadata": {},
   "outputs": [
    {
     "name": "stdout",
     "output_type": "stream",
     "text": [
      "your balance is 2268 after deposite 234\n",
      "your balance is 2034 after withdraw 234\n"
     ]
    }
   ],
   "source": [
    "first_obj = bank_account(345678,\"ram\",2034) ##this line is used to create object of the bank_account class in creation take argument as account no,account holder name,prior balance \n",
    "first_obj.deposite(234) ##call obj and with use of obj we call deposite method and pass 234 as argument\n",
    "first_obj.withdrawal(234) ####call obj and with use of obj we call deposite method and pass 234 as argument"
   ]
  },
  {
   "cell_type": "code",
   "execution_count": 2,
   "id": "05ba7176-8492-46d2-94a3-9679b407290f",
   "metadata": {},
   "outputs": [],
   "source": [
    "# Problem 2: Employee Management Create a class representing an employee with attributes like employee ID, name, and salary. Implement methods to calculate the yearly bonus and display employee details.\n",
    "class employee_management: ##this is a employee management class\n",
    "    def __init__ (self,employee_id,employee_name,employee_salary): ##this is construter which take element from user\n",
    "        self.employee_id = employee_id \n",
    "        self.employee_name = employee_name\n",
    "        self.employee_salary = employee_salary\n",
    "    def display_employee_details(self): ##this display_employee_details is used to display details of the employee\n",
    "        print(\"your employee id is :\",self.employee_id)\n",
    "        print(\"your employee name is :\",self.employee_name)\n",
    "        print(\"your employee salary :\",self.employee_salary)\n",
    "    def calculate_bonus_yearly_bonus(self): ##this method is used to calculate yearly bonus of the employee\n",
    "        bonus = self.employee_salary*0.05 ## company offers you a 5% commission\n",
    "        print(f\"Your bonus is {bonus} of the salary {self.employee_salary}\")\n",
    "    "
   ]
  },
  {
   "cell_type": "code",
   "execution_count": 3,
   "id": "dec421ab-bc9f-423b-89f0-d10f5512f6c9",
   "metadata": {},
   "outputs": [
    {
     "name": "stdout",
     "output_type": "stream",
     "text": [
      "your employee id is : 2345hf\n",
      "your employee name is : ram\n",
      "your employee salary : 10092\n",
      "Your bonus is 504.6 of the salary 10092\n"
     ]
    }
   ],
   "source": [
    "ob = employee_management(\"2345hf\",\"ram\",10092) ##this line used to create object of employee management class \n",
    "ob.display_employee_details() ##this line is used to call display_employee_details() methde\n",
    "ob.calculate_bonus_yearly_bonus() ##this line is used to call calculate_bonus_yearly_bonus() method "
   ]
  },
  {
   "cell_type": "code",
   "execution_count": 7,
   "id": "2cec16fc-8a04-4761-9754-82194cb45720",
   "metadata": {},
   "outputs": [
    {
     "name": "stdout",
     "output_type": "stream",
     "text": [
      "Available vehicles are:\n",
      "\n",
      "car\n",
      "Bike\n",
      "scooter\n",
      "vehicle car has been rented\n",
      "Available vehicles are:\n",
      "\n",
      "Bike\n",
      "scooter\n",
      "vehicle car has been returned\n",
      "Available vehicles are:\n",
      "\n",
      "Bike\n",
      "scooter\n",
      "car\n",
      "sorry the vehicle is not available for rent\n"
     ]
    }
   ],
   "source": [
    "# Problem 3: Vehicle Rental Create a class representing a vehicle rental system. Implement methods to rent a vehicle, return a vehicle, and display available vehicles.\n",
    "class vehicalrentsystem: ##this class is used for vehiclerentsystem \n",
    "    def __init__(self): ##this constructor is used to take input as a list far manage available and rent vehicles\n",
    "        self.availablevehicle = [] #this class variable is used to take record of available vehicles\n",
    "        self.rentedvehicle = [] #this class variable is used to manage rentalvehicles \n",
    "    \n",
    "    def rent_vehicle(self,vehicle): ##this method is used to give vehicles on rent\n",
    "        if vehicle in self.availablevehicle: ##if vehicle which is available in available class variable then give this variable on the rent else message some this vehicle is not available\n",
    "            self.availablevehicle.remove(vehicle)\n",
    "            self.rentedvehicle.append(vehicle)\n",
    "            print(f\"vehicle {vehicle} has been rented\")\n",
    "        else:\n",
    "            print(\"sorry the vehicle is not available for rent\")\n",
    "    def return_vehicle(self,vehicle):\n",
    "        if vehicle in self.rentedvehicle :##if vehicle which is user wants to return is vailable in rent_vehicle class variable then take  this variable from the user else message something this vehicle was not rentedby us\n",
    "            self.rentedvehicle.remove(vehicle)\n",
    "            self.availablevehicle.append(vehicle)\n",
    "            print(f\"vehicle {vehicle} has been returned\")\n",
    "        else:\n",
    "            print(\"this vehicle was not return for us\")\n",
    "    def display_available(self): ##this method is used to display availble vehicle\n",
    "        print(\"Available vehicles are:\\n\")\n",
    "        for vehi in self.availablevehicle:\n",
    "            print(vehi)\n",
    "            \n",
    "            \n",
    "rental_system = vehicalrentsystem()\n",
    "rental_system.availablevehicle = [\"car\",\"Bike\",\"scooter\"]\n",
    "rental_system.display_available()\n",
    "rental_system.rent_vehicle(\"car\")\n",
    "rental_system.display_available()\n",
    "rental_system.return_vehicle(\"car\")\n",
    "rental_system.display_available()\n",
    "rental_system.rent_vehicle(\"truck\")\n",
    "            \n",
    "        "
   ]
  },
  {
   "cell_type": "code",
   "execution_count": 33,
   "id": "5817502a-eb5d-4b14-b851-7139693821c9",
   "metadata": {},
   "outputs": [],
   "source": [
    "# Problem 4: Library Catalog Create classes representing a library and a book. Implement methods to add books to the library, borrow books, and display available books.\n",
    "class library_management: ##this class is a library management system\n",
    "    def __init__(self): ##this is a constructer which is used to manage available book and borrowed booko\n",
    "        self.available_book = []\n",
    "        self.borrowed_book = []\n",
    "    def add_book(self,book): ##this meyhod is used to add books in a library\n",
    "        self.available_book.append(book)\n",
    "    def borrow_book(self,book):##this method is used to borrow books from a library \n",
    "        if book in self.available_book: ##if book is available in library then \n",
    "            self.available_book.remove(book) ##this book is remove from available_book \n",
    "            self.borrowed_book.append(book) ## and add this book to borrowed book\n",
    "            print(f\"{book} is borrowed by you\") \n",
    "        else: ##else print this book is not available in this libarary\n",
    "            print(\"This book is not available in our library\")\n",
    "    def display_available_book(self): #this method is used to display avilable books in a library\n",
    "        for i in self.available_book: ##this line is used to triverse each book in a library\n",
    "            print(i,\"\\n\") ##and print This books name\n",
    "        print(\"\\n\") ##this line is used to one line gap"
   ]
  },
  {
   "cell_type": "code",
   "execution_count": 34,
   "id": "9d2fb56a-9b38-45b1-bf96-28288c199dac",
   "metadata": {},
   "outputs": [
    {
     "name": "stdout",
     "output_type": "stream",
     "text": [
      "ramayan \n",
      "\n",
      "geeta \n",
      "\n",
      "mahabharat \n",
      "\n",
      "shiv puran \n",
      "\n",
      "\n",
      "\n",
      "ramayan \n",
      "\n",
      "geeta \n",
      "\n",
      "mahabharat \n",
      "\n",
      "shiv puran \n",
      "\n",
      "ramcharitra manas \n",
      "\n",
      "\n",
      "\n",
      "geeta is borrowed by you\n",
      "ramayan \n",
      "\n",
      "mahabharat \n",
      "\n",
      "shiv puran \n",
      "\n",
      "ramcharitra manas \n",
      "\n",
      "\n",
      "\n",
      "This book is not available in our library\n"
     ]
    }
   ],
   "source": [
    "op = library_management() ##this line is used to create object of the library_management() class\n",
    "op.available_book = [\"ramayan\",\"geeta\",\"mahabharat\",\"shiv puran\"]  ##this line is used to add initial books in library\n",
    "op.display_available_book() ##this line is used to diplay available books\n",
    "op.add_book(\"ramcharitra manas\") ##this line is used to add \"ramcharitra manas\"\n",
    "op.display_available_book() ##this line is used to display available books\n",
    "op.borrow_book(\"geeta\") ##this line is used to borrow geeta from the library\n",
    "op.display_available_book()\n",
    "op.borrow_book(\"albert\") ##this line is used to borrow a book from the library but this book is not available"
   ]
  },
  {
   "cell_type": "code",
   "execution_count": 2,
   "id": "0fc0d0d5-8292-4db3-8399-f161100f2972",
   "metadata": {},
   "outputs": [],
   "source": [
    "# Problem 5: Product Inventory Create classes representing a product and an inventory system. Implement methods to add products to the inventory, update product quantity, and display available products.\n",
    "class product: ##this class is used to define product \n",
    "    def __init__(self,name,price,quantity): \n",
    "        self.name = name ##its name \n",
    "        self.price = price ##its price \n",
    "        self.quantity = quantity ##its quantity\n",
    "\n",
    "class product_inventary: ##this class is used to manage inventry of product\n",
    "    def __init__(self): #This constructer is used to create list for product\n",
    "        self.product_list = [] #this line is use to create empty list\n",
    "    def add_product(self,product1): ##this method is add product in the list\n",
    "        self.product_list.append(product1) ##in this line append product in product list\n",
    "        print(f\"your product:{product1} has been added\") \n",
    "    def update(self,product_name,product_quantity): ##this method is used to update product detail in the list\n",
    "        for product in self.product_list: ## this loop is used take a product from product list\n",
    "             if product.name == product_name: #check product available and updation requested product name is same or not \n",
    "                product.quantity = product_quantity  #if same then excute this line\n",
    "                print(f\"updated quantity of '{product.name}' to {product_quantity} \") \n",
    "                return ##perform this previous operations and then return from this line\n",
    "        print(f\"{product_name} is not found\") #if product is not found then print(\"product is not found\") \n",
    "       \n",
    "    def diplay(self): ##this method is used to display avilable product\n",
    "        print(\"available product\") \n",
    "        for i in self.product_list:\n",
    "            print(f\"Name: {i.name}, Price: ${i.price}, Quantity: {i.quantity}\")\n"
   ]
  },
  {
   "cell_type": "code",
   "execution_count": 3,
   "id": "6843bc46-9b68-4ab9-bc3d-82e2f0549dd1",
   "metadata": {},
   "outputs": [
    {
     "name": "stdout",
     "output_type": "stream",
     "text": [
      "your product:<__main__.product object at 0x7f5fa5af29e0> has been added\n",
      "your product:<__main__.product object at 0x7f5fa5af2710> has been added\n",
      "available product\n",
      "Name: laptop, Price: $2093, Quantity: 20\n",
      "Name: mobile, Price: $4567, Quantity: 10\n",
      "updated quantity of 'laptop' to 357 \n",
      "available product\n",
      "Name: laptop, Price: $2093, Quantity: 357\n",
      "Name: mobile, Price: $4567, Quantity: 10\n",
      "tv is not found\n"
     ]
    }
   ],
   "source": [
    "inventry = product_inventary() ##create object of the  product_inventary()\n",
    "product1 = product(\"laptop\",\"2093\",\"20\") #this line is used to fill a product detail\n",
    "product2 = product(\"mobile\",\"4567\",\"10\")  #this line is used to fill another product detail\n",
    "inventry.add_product(product1) #this line is used to add product in the product list\n",
    "inventry.add_product(product2) ##this line for another line\n",
    "inventry.diplay() #this line is used to display product\n",
    "inventry.update(\"laptop\",357) #this line is used to update product detail\n",
    "inventry.diplay() ##this line is again is used to display product details \n",
    "inventry.update(\"tv\",23) ##this line is used to update product details which is not avaible in the list"
   ]
  },
  {
   "cell_type": "code",
   "execution_count": null,
   "id": "41d60eb1-596d-4cdb-acee-ba04842791d8",
   "metadata": {},
   "outputs": [],
   "source": [
    "# Problem 6: Shape Calculation Create a class representing a shape with attributes like length, width, and height. Implement methods to calculate the area and perimeter of the shape.\n",
    "class shape:\n",
    "    def __init__(self,length,width=None,height=None):\n",
    "        self.length = length\n",
    "        self.width = width\n",
    "        self.height = height\n",
    "        \n",
    "class rectangle(shape):\n",
    "    def calculate_area(self):\n",
    "        return self.length*self.width\n",
    "    def calculate_parimeter(self):\n",
    "        return 2*(self.length + self.width)\n",
    "class square(rectangle):\n",
    "    def __init__(self,side_length):\n",
    "        super().__init__(side_length,side_length)\n",
    "class circle(shape):\n",
    "    def calculate_area(self):\n",
    "        import math\n",
    "        return math.pi * (self.length**2)\n",
    "    def calculate_parimeter(self):\n",
    "        import math\n",
    "        return math.pi * self.length\n",
    "class cube(shape):\n",
    "    def calculate_area(self):\n",
    "        return 6*(self.length**2)\n",
    "    \n",
    "    def calculate_parimeter(self):\n",
    "        return 12 * self.length\n",
    "    \n",
    "    def calculate_volume(self):\n",
    "        return self.length ** 3\n",
    "    \n",
    "\n",
    "\n",
    "        "
   ]
  },
  {
   "cell_type": "code",
   "execution_count": null,
   "id": "533bdf33-8bc0-48fe-a02f-b6cecc6d12d3",
   "metadata": {},
   "outputs": [],
   "source": [
    "rectangle = rectangle(5,6)\n",
    "rectangle.calculate_area()\n",
    "rectangle.calculate_parimeter()"
   ]
  },
  {
   "cell_type": "code",
   "execution_count": 1,
   "id": "18296915-37e3-4a98-838f-96f4f8b959c6",
   "metadata": {},
   "outputs": [],
   "source": [
    "# Problem 7: Student Management Create a class representing a student with attributes like student ID, name, and grades. Implement methods to calculate the average grade and display student details.\n",
    "class student_management: ##this class is used to manage students\n",
    "    def __init__(self,s_id,name): #this is a constructor and it is used to take students details \n",
    "        self.name = name ##this line is used to take name of the student\n",
    "        self.s_id = s_id ##this line is used to take id of the student\n",
    "        self.grade = [] ##this line is used to define empty grade list\n",
    "\n",
    "    def avg_grade(self): ##this method is used to calculate  avg grade of the students grades\n",
    "        ans=sum(self.grade)/len(self.grade) ##this line used to calculate avg grade\n",
    "        print(\"your average grade is \",ans) ##this line is used to display AVG grade\n",
    "    def student_detail(self): ##this line is used to display details of the student\n",
    "        print(f\"student_id '{self.s_id}', Name '{self.name}' \") #this line is used to display avg of the student\n",
    "    "
   ]
  },
  {
   "cell_type": "code",
   "execution_count": 2,
   "id": "f8a3eb78-2359-4171-816a-6ac6c05b1ff4",
   "metadata": {},
   "outputs": [
    {
     "name": "stdout",
     "output_type": "stream",
     "text": [
      "student_id '123ram', Name 'Ram' \n",
      "your average grade is  13.2\n"
     ]
    }
   ],
   "source": [
    "student_ob = student_management(\"123ram\",\"Ram\") ##this line is used to create object of the student_management class\n",
    "student_ob.student_detail() ##in this line we call student details method\n",
    "student_ob.grade = [1,2,3,4,56] ##this line is used to assign grade of the student\n",
    "student_ob.avg_grade() ##this line is used to calculate average grade"
   ]
  },
  {
   "cell_type": "code",
   "execution_count": 3,
   "id": "e696273c-ab8b-4d70-908d-5cd266feffa5",
   "metadata": {},
   "outputs": [],
   "source": [
    "# Problem 8: Email Management Create a class representing an email with attributes like sender, recipient, and subject. Implement methods to send an email and display email details.\n",
    "class email_management_system: ##this class is used to manage email system\n",
    "    def __init__(self,sender,receipt,subject): ##this is contructer which is used to take inputs from user and assign in class variable \n",
    "        self.sender = sender ##sender detail\n",
    "        self.receipt = receipt ##receiver detail\n",
    "        self.subject = subject #subject detail\n",
    "        self.sent = False #this is flag variable is used to triger this email is sent or not\n",
    "    def send_email(self): #this method is used to sent email from sender to receiver \n",
    "        self.sent = True ##this line is use if email has been sent then flag change in true\n",
    "        \n",
    "    def displa_email_details(self): ##this is a method is used to display email details \n",
    "        print(\"this is the detail of your email\")\n",
    "        print(f\"your email detail is :Sender:{self.sender}, Receipt : {self.receipt} , Subject: {self.subject}\")\n",
    "        if self.sent:\n",
    "            print(\"Status : sent\")\n",
    "        else:\n",
    "            print(\"status : NOT sent\")\n",
    "    "
   ]
  },
  {
   "cell_type": "code",
   "execution_count": 4,
   "id": "dd2b09c5-11ff-4e58-ab7f-7358b7f69cd4",
   "metadata": {},
   "outputs": [
    {
     "name": "stdout",
     "output_type": "stream",
     "text": [
      "this is the detail of your email\n",
      "your email detail is :Sender:ram@1234, Receipt : sita@1234 , Subject: company conference\n",
      "Status : sent\n"
     ]
    }
   ],
   "source": [
    "sender = \"ram@1234\"\n",
    "receiver = \"sita@1234\"\n",
    "subject = \"company conference\"\n",
    "email = email_management_system(sender,receiver,subject)\n",
    "email.send_email()\n",
    "email.displa_email_details()"
   ]
  },
  {
   "cell_type": "code",
   "execution_count": 5,
   "id": "de852a03-ee89-4dc0-8a50-47c08dabe10a",
   "metadata": {},
   "outputs": [],
   "source": [
    " # Problem 9: Social Media Profile Create a class representing a social media profile with attributes like username and posts. Implement methods to add posts, display posts, and search for posts by keyword.\n",
    "class social_media_management: ##this class is used to manage social media\n",
    "    def __init__(self,user_name): ##this constructer is used to take user name\n",
    "        self.user_name = user_name ##this line is used to assign assign user name to user name class variable\n",
    "        self.posts = [] ##this empty is used for taking posts \n",
    "    def add_post(self,post): ##this method is used to add posts in a social media\n",
    "        self.posts.append(post) \n",
    "    def display(self): ##this method is used to disply all posts\n",
    "        for i in self.posts:\n",
    "            print(i)\n",
    "    def search_by_refrence(self,search): ##this method is used to search a post from its keyword\n",
    "        for i in self.posts: \n",
    "            if(search==i):\n",
    "                print(f\"yes your post '{i}' is available\")\n",
    "                return\n",
    "        print(f\"sorry This '{search}' post is not available\")\n",
    "        "
   ]
  },
  {
   "cell_type": "code",
   "execution_count": 6,
   "id": "0ff28333-8c32-4c78-a7d6-199288d52e64",
   "metadata": {},
   "outputs": [
    {
     "name": "stdout",
     "output_type": "stream",
     "text": [
      "school\n",
      "time\n",
      "collage\n",
      "friend\n",
      "ever green\n",
      "yes your post 'collage' is available\n",
      "school\n",
      "time\n",
      "collage\n",
      "friend\n",
      "ever green\n",
      "home\n"
     ]
    }
   ],
   "source": [
    "social = social_media_management(\"ram_kapoor\") ##this line is used to construct object \n",
    "social.posts = [\"school\",\"time\",\"collage\",\"friend\",\"ever green\"] ##this line is used to initialize posts in posts list   \n",
    "social.display() ##this line is used to call display posts \n",
    "social.search_by_refrence(\"collage\") ##this line is used to to search post by its name\n",
    "social.add_post(\"home\") ##this line is add post\n",
    "social.display() ##this line is used to display posts "
   ]
  },
  {
   "cell_type": "code",
   "execution_count": 7,
   "id": "c8c37b8a-142a-4237-b201-f4b8ae74f21e",
   "metadata": {},
   "outputs": [],
   "source": [
    "# Problem 10: ToDo List Create a class representing a ToDo list with attributes like tasks and due dates. Implement methods to add tasks, mark tasks as completed, and display pending tasks.\n",
    "class TO_DO_list: ##this class is construct for follow todo list\n",
    "    def __init__(self): ##this method is used to define empty tasks list\n",
    "        self.tasks = [] \n",
    "    def add_task(self,task,due_data):##this method is used to add tasks in the list\n",
    "        self.tasks.append({\"tasks\": task,\"due_date\":due_data,\"completed\":False}) ##this line append a disctionry in the todo list\n",
    "    def mark_task_comleted(self,task_index): ##this method is used to marked our task is completed \n",
    "        if 0<= task_index <len(self.tasks): #this line is used check task index is less then len of self.tasks \n",
    "            self.tasks[task_index][\"completed\"] = True #then marked tasks list tasks index and key value of \"completed\" true\n",
    "            print(\"marked\")\n",
    "        else:\n",
    "            print(\"invalid task index\") ##else print invalid task index\n",
    "    def diplay_pending_tasks(self): ##this method is used to display pending tasks\n",
    "        pending = [task for task in self.tasks if not task[\"completed\"]]\n",
    "        if pending:\n",
    "            print(\"pending tasks:\\n\")\n",
    "            for i ,task in enumerate(pending,start=1):\n",
    "                print(f\"{i}. Task: {task['tasks']} (Due date: {task['due_date']})\")\n",
    "        else:\n",
    "            print(\"no pending tasks\")"
   ]
  },
  {
   "cell_type": "code",
   "execution_count": 8,
   "id": "fe9ff6c9-e11d-42a3-97d5-bcfffc3d3646",
   "metadata": {},
   "outputs": [
    {
     "name": "stdout",
     "output_type": "stream",
     "text": [
      "pending tasks:\n",
      "\n",
      "1. Task: Buy Groceries (Due date: 2023-10-15)\n",
      "marked\n",
      "no pending tasks\n",
      "pending tasks:\n",
      "\n",
      "1. Task: Finish homework (Due date: 2023-10-20)\n",
      "pending tasks:\n",
      "\n",
      "1. Task: Finish homework (Due date: 2023-10-20)\n",
      "2. Task: Call mom (Due date: 2023-10-12)\n",
      "3. Task: Buy stationary (Due date: 2023-10-18)\n",
      "4. Task: guitar practice (Due date: 2023-10-19)\n",
      "marked\n",
      "marked\n",
      "pending tasks:\n",
      "\n",
      "1. Task: Call mom (Due date: 2023-10-12)\n",
      "2. Task: Buy stationary (Due date: 2023-10-18)\n",
      "3. Task: guitar practice (Due date: 2023-10-19)\n"
     ]
    }
   ],
   "source": [
    "todo = TO_DO_list() ##this line is used to create object of TO_DO_list() class\n",
    "todo.add_task(\"Buy Groceries\",\"2023-10-15\") #this liene is used to add tasks\n",
    "todo.diplay_pending_tasks() ##this line is used to call to diplay_pending_tasks()\n",
    "todo.mark_task_comleted(0) ##this line is used to mared completed task\n",
    "todo.diplay_pending_tasks()\n",
    "todo.add_task(\"Finish homework\", \"2023-10-20\")\n",
    "todo.diplay_pending_tasks()\n",
    "todo.add_task(\"Call mom\", \"2023-10-12\")\n",
    "todo.add_task(\"Buy stationary\",\"2023-10-18\")\n",
    "todo.add_task(\"guitar practice\",\"2023-10-19\")\n",
    "todo.diplay_pending_tasks()\n",
    "todo.mark_task_comleted(1)\n",
    "todo.mark_task_comleted(1)\n",
    "todo.diplay_pending_tasks()"
   ]
  },
  {
   "cell_type": "code",
   "execution_count": null,
   "id": "90d33908-237e-4537-82d2-04460bfffdca",
   "metadata": {},
   "outputs": [],
   "source": []
  },
  {
   "cell_type": "code",
   "execution_count": null,
   "id": "4da83415-91db-4748-b139-576d7c09879c",
   "metadata": {},
   "outputs": [],
   "source": []
  }
 ],
 "metadata": {
  "kernelspec": {
   "display_name": "Python 3 (ipykernel)",
   "language": "python",
   "name": "python3"
  },
  "language_info": {
   "codemirror_mode": {
    "name": "ipython",
    "version": 3
   },
   "file_extension": ".py",
   "mimetype": "text/x-python",
   "name": "python",
   "nbconvert_exporter": "python",
   "pygments_lexer": "ipython3",
   "version": "3.10.8"
  }
 },
 "nbformat": 4,
 "nbformat_minor": 5
}
